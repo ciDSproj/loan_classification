{
 "cells": [
  {
   "cell_type": "markdown",
   "id": "f7b24863",
   "metadata": {},
   "source": [
    "## Loan Classification\n",
    "\n",
    "### Build Classification Models"
   ]
  },
  {
   "cell_type": "markdown",
   "id": "73d40cd7",
   "metadata": {},
   "source": [
    "### Summary\n",
    "\n",
    "This is Part 2 of the project Loan Classification: Build Classification Models. \n",
    "    \n",
    "In this project I analyze the <a href=\"https://www.kaggle.com/datasets/itssuru/loan-data\">Loan Data</a> provided \n",
    "by <a href=\"https://www.lendingclub.com/investing/peer-to-peer\">Lending Club</a>.\n",
    "\n",
    "The analysis covers **data exploration, visualization**, **data processing** and **building a classifier** to predict whether \n",
    "or not the **borrower paid back their loan in full**.\n",
    "\n",
    "The project is done in Python. It uses Pandas and Numpy libraries for data manipulation, Seaborn and Matplotlib for \n",
    "visualizations and Sklean for building the classifier."
   ]
  },
  {
   "cell_type": "markdown",
   "id": "d484de82",
   "metadata": {},
   "source": [
    "### Import libraries"
   ]
  },
  {
   "cell_type": "code",
   "execution_count": 1,
   "id": "39c6b8a7",
   "metadata": {},
   "outputs": [],
   "source": [
    "import pandas as pd\n",
    "import numpy as np\n",
    "import matplotlib\n",
    "import matplotlib.pyplot as plt\n",
    "import seaborn as sns\n",
    "from sklearn.preprocessing import LabelEncoder\n",
    "from sklearn.preprocessing import MinMaxScaler\n",
    "from collections import Counter\n",
    "from imblearn.over_sampling import SMOTE \n",
    "from sklearn.model_selection import train_test_split\n",
    "from sklearn.linear_model import LogisticRegression\n",
    "from sklearn.ensemble import RandomForestClassifier\n",
    "from sklearn.ensemble import GradientBoostingClassifier\n",
    "from sklearn.metrics import *"
   ]
  },
  {
   "cell_type": "markdown",
   "id": "dfaba127",
   "metadata": {},
   "source": [
    "### Load data"
   ]
  },
  {
   "cell_type": "code",
   "execution_count": 2,
   "id": "b5c18697",
   "metadata": {},
   "outputs": [
    {
     "name": "stdout",
     "output_type": "stream",
     "text": [
      "(9578, 14)\n",
      "\n"
     ]
    },
    {
     "data": {
      "text/html": [
       "<div>\n",
       "<style scoped>\n",
       "    .dataframe tbody tr th:only-of-type {\n",
       "        vertical-align: middle;\n",
       "    }\n",
       "\n",
       "    .dataframe tbody tr th {\n",
       "        vertical-align: top;\n",
       "    }\n",
       "\n",
       "    .dataframe thead th {\n",
       "        text-align: right;\n",
       "    }\n",
       "</style>\n",
       "<table border=\"1\" class=\"dataframe\">\n",
       "  <thead>\n",
       "    <tr style=\"text-align: right;\">\n",
       "      <th></th>\n",
       "      <th>credit.policy</th>\n",
       "      <th>purpose</th>\n",
       "      <th>int.rate</th>\n",
       "      <th>installment</th>\n",
       "      <th>log.annual.inc</th>\n",
       "      <th>dti</th>\n",
       "      <th>fico</th>\n",
       "      <th>days.with.cr.line</th>\n",
       "      <th>revol.bal</th>\n",
       "      <th>revol.util</th>\n",
       "      <th>inq.last.6mths</th>\n",
       "      <th>delinq.2yrs</th>\n",
       "      <th>pub.rec</th>\n",
       "      <th>not.fully.paid</th>\n",
       "    </tr>\n",
       "  </thead>\n",
       "  <tbody>\n",
       "    <tr>\n",
       "      <th>0</th>\n",
       "      <td>1</td>\n",
       "      <td>debt_consolidation</td>\n",
       "      <td>0.1189</td>\n",
       "      <td>829.10</td>\n",
       "      <td>11.350407</td>\n",
       "      <td>19.48</td>\n",
       "      <td>737</td>\n",
       "      <td>5639.958333</td>\n",
       "      <td>28854</td>\n",
       "      <td>52.1</td>\n",
       "      <td>0</td>\n",
       "      <td>0</td>\n",
       "      <td>0</td>\n",
       "      <td>0</td>\n",
       "    </tr>\n",
       "    <tr>\n",
       "      <th>1</th>\n",
       "      <td>1</td>\n",
       "      <td>credit_card</td>\n",
       "      <td>0.1071</td>\n",
       "      <td>228.22</td>\n",
       "      <td>11.082143</td>\n",
       "      <td>14.29</td>\n",
       "      <td>707</td>\n",
       "      <td>2760.000000</td>\n",
       "      <td>33623</td>\n",
       "      <td>76.7</td>\n",
       "      <td>0</td>\n",
       "      <td>0</td>\n",
       "      <td>0</td>\n",
       "      <td>0</td>\n",
       "    </tr>\n",
       "    <tr>\n",
       "      <th>2</th>\n",
       "      <td>1</td>\n",
       "      <td>debt_consolidation</td>\n",
       "      <td>0.1357</td>\n",
       "      <td>366.86</td>\n",
       "      <td>10.373491</td>\n",
       "      <td>11.63</td>\n",
       "      <td>682</td>\n",
       "      <td>4710.000000</td>\n",
       "      <td>3511</td>\n",
       "      <td>25.6</td>\n",
       "      <td>1</td>\n",
       "      <td>0</td>\n",
       "      <td>0</td>\n",
       "      <td>0</td>\n",
       "    </tr>\n",
       "    <tr>\n",
       "      <th>3</th>\n",
       "      <td>1</td>\n",
       "      <td>debt_consolidation</td>\n",
       "      <td>0.1008</td>\n",
       "      <td>162.34</td>\n",
       "      <td>11.350407</td>\n",
       "      <td>8.10</td>\n",
       "      <td>712</td>\n",
       "      <td>2699.958333</td>\n",
       "      <td>33667</td>\n",
       "      <td>73.2</td>\n",
       "      <td>1</td>\n",
       "      <td>0</td>\n",
       "      <td>0</td>\n",
       "      <td>0</td>\n",
       "    </tr>\n",
       "    <tr>\n",
       "      <th>4</th>\n",
       "      <td>1</td>\n",
       "      <td>credit_card</td>\n",
       "      <td>0.1426</td>\n",
       "      <td>102.92</td>\n",
       "      <td>11.299732</td>\n",
       "      <td>14.97</td>\n",
       "      <td>667</td>\n",
       "      <td>4066.000000</td>\n",
       "      <td>4740</td>\n",
       "      <td>39.5</td>\n",
       "      <td>0</td>\n",
       "      <td>1</td>\n",
       "      <td>0</td>\n",
       "      <td>0</td>\n",
       "    </tr>\n",
       "  </tbody>\n",
       "</table>\n",
       "</div>"
      ],
      "text/plain": [
       "   credit.policy             purpose  int.rate  installment  log.annual.inc  \\\n",
       "0              1  debt_consolidation    0.1189       829.10       11.350407   \n",
       "1              1         credit_card    0.1071       228.22       11.082143   \n",
       "2              1  debt_consolidation    0.1357       366.86       10.373491   \n",
       "3              1  debt_consolidation    0.1008       162.34       11.350407   \n",
       "4              1         credit_card    0.1426       102.92       11.299732   \n",
       "\n",
       "     dti  fico  days.with.cr.line  revol.bal  revol.util  inq.last.6mths  \\\n",
       "0  19.48   737        5639.958333      28854        52.1               0   \n",
       "1  14.29   707        2760.000000      33623        76.7               0   \n",
       "2  11.63   682        4710.000000       3511        25.6               1   \n",
       "3   8.10   712        2699.958333      33667        73.2               1   \n",
       "4  14.97   667        4066.000000       4740        39.5               0   \n",
       "\n",
       "   delinq.2yrs  pub.rec  not.fully.paid  \n",
       "0            0        0               0  \n",
       "1            0        0               0  \n",
       "2            0        0               0  \n",
       "3            0        0               0  \n",
       "4            1        0               0  "
      ]
     },
     "execution_count": 2,
     "metadata": {},
     "output_type": "execute_result"
    }
   ],
   "source": [
    "# Retrieve data in a pandas dataframe\n",
    "loan = pd.read_csv('loan_data.csv')\n",
    "\n",
    "# Print the shape and the first rows\n",
    "print(loan.shape)\n",
    "print()\n",
    "loan.head()"
   ]
  },
  {
   "cell_type": "markdown",
   "id": "f61ca054",
   "metadata": {},
   "source": [
    "## Data Preprocessing"
   ]
  },
  {
   "cell_type": "markdown",
   "id": "60c9b4e4",
   "metadata": {},
   "source": [
    "For data preprocessing I followed the steps below."
   ]
  },
  {
   "cell_type": "markdown",
   "id": "1cf12bde",
   "metadata": {},
   "source": [
    "### Apply logarithm transformation to revolving balance"
   ]
  },
  {
   "cell_type": "code",
   "execution_count": 3,
   "id": "32153bef",
   "metadata": {},
   "outputs": [],
   "source": [
    "# Apply logarithm transformation to 'revol.bal'\n",
    "loan['log_revol.bal'] = loan['revol.bal'].\\\n",
    "              apply(lambda x: 0 if x <= 0 else np.log(x))"
   ]
  },
  {
   "cell_type": "markdown",
   "id": "1bf136cb",
   "metadata": {},
   "source": [
    "### Binning categories"
   ]
  },
  {
   "cell_type": "code",
   "execution_count": 4,
   "id": "24115ade",
   "metadata": {},
   "outputs": [],
   "source": [
    "# Binning 'inq.last.6mths'\n",
    "\n",
    "# Create custom bins\n",
    "custom_bins_inq = [-1, 0, 2, 5, float('inf')]\n",
    "# Label the bins\n",
    "bin_labels_inq = ['bin1', 'bin2', 'bin3', 'bin4']\n",
    "# Bin categories in 'inq.last.6mths'\n",
    "loan['inq.last.6mths_bin'] = pd.cut(loan['inq.last.6mths'], \n",
    "                             bins=custom_bins_inq, \n",
    "                             labels=bin_labels_inq)\n",
    "\n",
    "# Binning 'delinq.2yrs'\n",
    "\n",
    "# Create custom bins\n",
    "custom_bins_delinq = [-1, 0, 1, float('inf')]\n",
    "# Label the bins\n",
    "bin_labels_delinq = ['bin1', 'bin2', 'bin3']\n",
    "# Bin categories in 'delinq.2yrs'\n",
    "loan['delinq.2yrs_bin'] = pd.cut(loan['delinq.2yrs'], \n",
    "                          bins=custom_bins_delinq, \n",
    "                          labels=bin_labels_delinq)\n",
    "\n",
    "# Bin 'pub.rec'\n",
    "\n",
    "# Create custom bins\n",
    "custom_bins_pub = [-1, 0, float('inf')]\n",
    "# Label the bins\n",
    "bin_labels_pub = ['bin1', 'bin2']\n",
    "# Bin categories in 'pub.rec'\n",
    "loan['pub.rec_bin'] = pd.cut(loan['pub.rec'], \n",
    "                      bins=custom_bins_pub, \n",
    "                      labels=bin_labels_pub)"
   ]
  },
  {
   "cell_type": "markdown",
   "id": "4674641b",
   "metadata": {},
   "source": [
    "### Category encoding"
   ]
  },
  {
   "cell_type": "code",
   "execution_count": 5,
   "id": "29aa3bfb",
   "metadata": {},
   "outputs": [],
   "source": [
    "# List of categorical columns to label encode\n",
    "cols_to_encode = ['inq.last.6mths_bin', \n",
    "                  'delinq.2yrs_bin', \n",
    "                  'pub.rec_bin']\n",
    "\n",
    "# Initialize the LabelEncoder\n",
    "label_encoder = LabelEncoder()\n",
    "\n",
    "# Apply label encoding to each specified column\n",
    "for col in cols_to_encode:\n",
    "    loan[col] = label_encoder.fit_transform(loan[col])\n",
    "    \n",
    "# Encode categories in 'purpose'\n",
    "loan = pd.get_dummies(loan,\n",
    "        columns = ['purpose'])"
   ]
  },
  {
   "cell_type": "markdown",
   "id": "9f8eaf71",
   "metadata": {},
   "source": [
    "### Drop redundant columns"
   ]
  },
  {
   "cell_type": "code",
   "execution_count": 6,
   "id": "cea4aa3f",
   "metadata": {},
   "outputs": [
    {
     "name": "stdout",
     "output_type": "stream",
     "text": [
      "(9578, 20)\n"
     ]
    },
    {
     "data": {
      "text/html": [
       "<div>\n",
       "<style scoped>\n",
       "    .dataframe tbody tr th:only-of-type {\n",
       "        vertical-align: middle;\n",
       "    }\n",
       "\n",
       "    .dataframe tbody tr th {\n",
       "        vertical-align: top;\n",
       "    }\n",
       "\n",
       "    .dataframe thead th {\n",
       "        text-align: right;\n",
       "    }\n",
       "</style>\n",
       "<table border=\"1\" class=\"dataframe\">\n",
       "  <thead>\n",
       "    <tr style=\"text-align: right;\">\n",
       "      <th></th>\n",
       "      <th>credit.policy</th>\n",
       "      <th>int.rate</th>\n",
       "      <th>installment</th>\n",
       "      <th>log.annual.inc</th>\n",
       "      <th>dti</th>\n",
       "      <th>fico</th>\n",
       "      <th>days.with.cr.line</th>\n",
       "      <th>revol.util</th>\n",
       "      <th>not.fully.paid</th>\n",
       "      <th>log_revol.bal</th>\n",
       "      <th>inq.last.6mths_bin</th>\n",
       "      <th>delinq.2yrs_bin</th>\n",
       "      <th>pub.rec_bin</th>\n",
       "      <th>purpose_all_other</th>\n",
       "      <th>purpose_credit_card</th>\n",
       "      <th>purpose_debt_consolidation</th>\n",
       "      <th>purpose_educational</th>\n",
       "      <th>purpose_home_improvement</th>\n",
       "      <th>purpose_major_purchase</th>\n",
       "      <th>purpose_small_business</th>\n",
       "    </tr>\n",
       "  </thead>\n",
       "  <tbody>\n",
       "    <tr>\n",
       "      <th>0</th>\n",
       "      <td>1</td>\n",
       "      <td>0.1189</td>\n",
       "      <td>829.10</td>\n",
       "      <td>11.350407</td>\n",
       "      <td>19.48</td>\n",
       "      <td>737</td>\n",
       "      <td>5639.958333</td>\n",
       "      <td>52.1</td>\n",
       "      <td>0</td>\n",
       "      <td>10.270004</td>\n",
       "      <td>0</td>\n",
       "      <td>0</td>\n",
       "      <td>0</td>\n",
       "      <td>0</td>\n",
       "      <td>0</td>\n",
       "      <td>1</td>\n",
       "      <td>0</td>\n",
       "      <td>0</td>\n",
       "      <td>0</td>\n",
       "      <td>0</td>\n",
       "    </tr>\n",
       "    <tr>\n",
       "      <th>1</th>\n",
       "      <td>1</td>\n",
       "      <td>0.1071</td>\n",
       "      <td>228.22</td>\n",
       "      <td>11.082143</td>\n",
       "      <td>14.29</td>\n",
       "      <td>707</td>\n",
       "      <td>2760.000000</td>\n",
       "      <td>76.7</td>\n",
       "      <td>0</td>\n",
       "      <td>10.422966</td>\n",
       "      <td>0</td>\n",
       "      <td>0</td>\n",
       "      <td>0</td>\n",
       "      <td>0</td>\n",
       "      <td>1</td>\n",
       "      <td>0</td>\n",
       "      <td>0</td>\n",
       "      <td>0</td>\n",
       "      <td>0</td>\n",
       "      <td>0</td>\n",
       "    </tr>\n",
       "    <tr>\n",
       "      <th>2</th>\n",
       "      <td>1</td>\n",
       "      <td>0.1357</td>\n",
       "      <td>366.86</td>\n",
       "      <td>10.373491</td>\n",
       "      <td>11.63</td>\n",
       "      <td>682</td>\n",
       "      <td>4710.000000</td>\n",
       "      <td>25.6</td>\n",
       "      <td>0</td>\n",
       "      <td>8.163656</td>\n",
       "      <td>1</td>\n",
       "      <td>0</td>\n",
       "      <td>0</td>\n",
       "      <td>0</td>\n",
       "      <td>0</td>\n",
       "      <td>1</td>\n",
       "      <td>0</td>\n",
       "      <td>0</td>\n",
       "      <td>0</td>\n",
       "      <td>0</td>\n",
       "    </tr>\n",
       "  </tbody>\n",
       "</table>\n",
       "</div>"
      ],
      "text/plain": [
       "   credit.policy  int.rate  installment  log.annual.inc    dti  fico  \\\n",
       "0              1    0.1189       829.10       11.350407  19.48   737   \n",
       "1              1    0.1071       228.22       11.082143  14.29   707   \n",
       "2              1    0.1357       366.86       10.373491  11.63   682   \n",
       "\n",
       "   days.with.cr.line  revol.util  not.fully.paid  log_revol.bal  \\\n",
       "0        5639.958333        52.1               0      10.270004   \n",
       "1        2760.000000        76.7               0      10.422966   \n",
       "2        4710.000000        25.6               0       8.163656   \n",
       "\n",
       "   inq.last.6mths_bin  delinq.2yrs_bin  pub.rec_bin  purpose_all_other  \\\n",
       "0                   0                0            0                  0   \n",
       "1                   0                0            0                  0   \n",
       "2                   1                0            0                  0   \n",
       "\n",
       "   purpose_credit_card  purpose_debt_consolidation  purpose_educational  \\\n",
       "0                    0                           1                    0   \n",
       "1                    1                           0                    0   \n",
       "2                    0                           1                    0   \n",
       "\n",
       "   purpose_home_improvement  purpose_major_purchase  purpose_small_business  \n",
       "0                         0                       0                       0  \n",
       "1                         0                       0                       0  \n",
       "2                         0                       0                       0  "
      ]
     },
     "execution_count": 6,
     "metadata": {},
     "output_type": "execute_result"
    }
   ],
   "source": [
    "# Drop the columns 'revol.bal', 'inq.last.6mths', 'delinq.2yrs', 'pub.rec' from the DataFrame\n",
    "loan = loan.drop(columns=[\n",
    "    'revol.bal', 'inq.last.6mths', \n",
    "    'delinq.2yrs', 'pub.rec'])\n",
    "\n",
    "# Verify the columns have been dropped\n",
    "print(loan.shape)\n",
    "loan.head(3)"
   ]
  },
  {
   "cell_type": "markdown",
   "id": "940c42b5",
   "metadata": {},
   "source": [
    "### Normalize features"
   ]
  },
  {
   "cell_type": "code",
   "execution_count": 7,
   "id": "d76a571b",
   "metadata": {},
   "outputs": [],
   "source": [
    "# Make a copy of the dataframe\n",
    "features = loan.copy()\n",
    "\n",
    "# Select columns to be normalized\n",
    "cols_normalize=[\n",
    "    'credit.policy', 'int.rate', 'installment', \n",
    "    'log.annual.inc', 'dti',  'fico', \n",
    "    'days.with.cr.line', 'revol.util', \n",
    "    'log_revol.bal']\n",
    "\n",
    "# Create a Numpy array with the values of the columns\n",
    "x = features[cols_normalize].values\n",
    "\n",
    "# Initialize the scaler\n",
    "scaler = MinMaxScaler()\n",
    "\n",
    "# Fit and transform the data\n",
    "x_scaled = scaler.fit_transform(x)\n",
    "\n",
    "# Create a dataframe for normalized features\n",
    "features_temp = pd.DataFrame(x_scaled, \n",
    "                columns=cols_normalize, \n",
    "                index=features.index)\n",
    "\n",
    "# Replace features dataframe with normalized values\n",
    "features[cols_normalize] = features_temp"
   ]
  },
  {
   "cell_type": "markdown",
   "id": "62cf61e7",
   "metadata": {},
   "source": [
    "## Build a Classification Model"
   ]
  },
  {
   "cell_type": "markdown",
   "id": "5170c271",
   "metadata": {},
   "source": [
    "We will build a Classifier to **predict** whether a **loan will be paid back**. \n",
    "\n",
    "In training and evaluation of the model we'll **account** for:\n",
    "- **class imbalance** \n",
    "- the **importance** of accurately **predicting** whether a loan will **not be paid back** rather than if a loan is paid"
   ]
  },
  {
   "cell_type": "markdown",
   "id": "556b4ad1",
   "metadata": {},
   "source": [
    "### Split the dataset into training and testing sets "
   ]
  },
  {
   "cell_type": "code",
   "execution_count": 8,
   "id": "2e65ba9d",
   "metadata": {},
   "outputs": [
    {
     "name": "stdout",
     "output_type": "stream",
     "text": [
      "X_train:  (6704, 19)\n",
      "y_train:  (6704,)\n",
      "X_test:  (2874, 19)\n",
      "y_test:  (2874,)\n"
     ]
    }
   ],
   "source": [
    "# Create the label\n",
    "y = features['not.fully.paid']\n",
    "\n",
    "# Drop the column \"not.fully.paid\"\n",
    "features = features.drop('not.fully.paid', axis=1)\n",
    "\n",
    "# Make a list with all the columns in dataframe\n",
    "cols = list(features.columns)\n",
    "\n",
    "# Create the features dataframe\n",
    "X = features[cols]\n",
    "\n",
    "# Split the dataset into training \n",
    "# set (70%) and testing set (30%)\n",
    "X_train, X_test, y_train, y_test = train_test_split(X, y, \n",
    "                        test_size=0.3, random_state=123)\n",
    "\n",
    "# Print the shape of the training and testing datasets\n",
    "print('X_train: ', X_train.shape)\n",
    "print('y_train: ', y_train.shape)\n",
    "print('X_test: ', X_test.shape)\n",
    "print('y_test: ', y_test.shape)"
   ]
  },
  {
   "cell_type": "markdown",
   "id": "7da55dab",
   "metadata": {},
   "source": [
    "### Initialize and train the models"
   ]
  },
  {
   "cell_type": "markdown",
   "id": "5f37ddbf",
   "metadata": {},
   "source": [
    "We'll train the following models:\n",
    "- **Logistic Regression**\n",
    "- **Random Forest**\n",
    "- **Gradient Boosting**"
   ]
  },
  {
   "cell_type": "code",
   "execution_count": 9,
   "id": "d1c9cd56",
   "metadata": {},
   "outputs": [
    {
     "name": "stdout",
     "output_type": "stream",
     "text": [
      "Model: Logistic Regression\n",
      "\n",
      "Accuracy: 0.8347\n",
      "Precision: 0.6471\n",
      "Recall: 0.0229\n",
      "F1 Score: 0.0443\n",
      "ROC AUC Score: 0.6820\n",
      "******************************************\n",
      "Model: Random Forest\n",
      "\n",
      "Accuracy: 0.8337\n",
      "Precision: 0.6000\n",
      "Recall: 0.0125\n",
      "F1 Score: 0.0245\n",
      "ROC AUC Score: 0.6531\n",
      "******************************************\n",
      "Model: Gradient Boosting\n",
      "\n",
      "Accuracy: 0.8326\n",
      "Precision: 0.4878\n",
      "Recall: 0.0417\n",
      "F1 Score: 0.0768\n",
      "ROC AUC Score: 0.6681\n",
      "******************************************\n"
     ]
    }
   ],
   "source": [
    "# Create a dictionary with the models\n",
    "models = {\n",
    "    'Logistic Regression': LogisticRegression(max_iter=5000, random_state = 0),\n",
    "    'Random Forest': RandomForestClassifier(random_state=0),\n",
    "    'Gradient Boosting': GradientBoostingClassifier(n_estimators=100, \n",
    "                         loss='deviance', learning_rate=0.05, \n",
    "                         max_depth=5, min_samples_leaf=5)\n",
    "}\n",
    "\n",
    "# Fit the models to train data\n",
    "for name, model in models.items():\n",
    "    model.fit(X_train, y_train)\n",
    "    y_pred = model.predict(X_test)\n",
    "    \n",
    "    # Evaluate the model\n",
    "    accuracy = accuracy_score(y_test, y_pred)\n",
    "    precision = precision_score(y_test, y_pred)\n",
    "    recall = recall_score(y_test, y_pred)\n",
    "    f1 = f1_score(y_test, y_pred)\n",
    "    roc_auc = roc_auc_score(y_test, model.predict_proba(X_test)[:, 1])\n",
    "    \n",
    "    # Print the evaluation metrics\n",
    "    print(f\"Model: {name}\")\n",
    "    print()\n",
    "    print(f\"Accuracy: {accuracy:.4f}\")\n",
    "    print(f\"Precision: {precision:.4f}\")\n",
    "    print(f\"Recall: {recall:.4f}\")\n",
    "    print(f\"F1 Score: {f1:.4f}\")\n",
    "    print(f\"ROC AUC Score: {roc_auc:.4f}\")\n",
    "    print(\"******************************************\")"
   ]
  },
  {
   "cell_type": "markdown",
   "id": "f088c27f",
   "metadata": {},
   "source": [
    "**Logistic Regression** model has an **Accuracy of 0.83**, while **Random Forest** and **Gradient Boosting** have \n",
    "slightly **lower accuracy** values. \n",
    "\n",
    "The metrics include also Recall and Precision for all the models:\n",
    "- What proportion of actual loan defaults was identified correctly? This is the \"Recall\".\n",
    "- What proportion of positive loan defaults identifications was correct? This is the \"Precision\"\n",
    "\n",
    "For **Logistic Regression**, Precision is 0.64, Recall is low with a value of **0.02**, and F1 score is \n",
    "0.04. \n",
    "\n",
    "A **Recall** value of **0.02** means that the **model identifies only 2% of all unpaid loans**."
   ]
  },
  {
   "cell_type": "markdown",
   "id": "450f9935",
   "metadata": {},
   "source": [
    "### Confusion matrix for Logistic Regression"
   ]
  },
  {
   "cell_type": "code",
   "execution_count": 10,
   "id": "9b634adc",
   "metadata": {},
   "outputs": [
    {
     "name": "stdout",
     "output_type": "stream",
     "text": [
      "\n",
      "TP, TN, FP, FN: 11 , 2388 , 6 , 469\n"
     ]
    },
    {
     "data": {
      "image/png": "[encoded data removed]",
      "text/plain": [
       "<Figure size 288x216 with 1 Axes>"
      ]
     },
     "metadata": {
      "needs_background": "light"
     },
     "output_type": "display_data"
    }
   ],
   "source": [
    "# Get predicted values for initial Logistic Regression\n",
    "log = LogisticRegression(max_iter=5000, random_state = 0)   \n",
    "log.fit(X_train, y_train)\n",
    "y_pred = log.predict(X_test)\n",
    "\n",
    "# Generate a Confusion Matrix\n",
    "cm = confusion_matrix(y_test, y_pred)\n",
    "tn, fp, fn, tp = cm.ravel()\n",
    "print (\"\\nTP, TN, FP, FN:\", \n",
    "       tp, \",\", tn, \",\", fp, \",\", fn)\n",
    "\n",
    "# Build the Confusion Matrix plot for Logistic Regression model\n",
    "plt.figure(figsize=(4,3))\n",
    "sns.set(font_scale=1.3)            \n",
    "sns.heatmap(cm, annot=True, fmt=\"d\", cmap=\"Blues\", \n",
    "            linewidths=0.2, cbar=False) \n",
    "plt.xlabel('Predicted')\n",
    "plt.ylabel('Actual')\n",
    "plt.title('Confusion Matrix for Logistic Regression Model')\n",
    "plt.show()"
   ]
  },
  {
   "cell_type": "markdown",
   "id": "c37e33e9",
   "metadata": {},
   "source": [
    "Confusion matrix for the initial **Logistic Regression** shows that there are **469 false negatives** and **6 false positives**.\n",
    "\n",
    "**False negatives** are loans that are **actually not paid** but are **classified as paid**, thus \n",
    "for the **lender**,  the **false negatives are more costly** than false positives. \n",
    "\n",
    "Our **focus** is **minimizing the false negatives** which would **maximize the Recall**.\n",
    "\n",
    "Since this is an **imbalanced dataset**, we will consider **Precision and Recall** as **measures for model performance**, **instead** of **Accuracy**. "
   ]
  },
  {
   "cell_type": "markdown",
   "id": "909528b9",
   "metadata": {},
   "source": [
    "### Balance the class distribution  by applying SMOTE technique"
   ]
  },
  {
   "cell_type": "markdown",
   "id": "2c27e04f",
   "metadata": {},
   "source": [
    "We'll apply next the SMOTE algorithm (Synthetic Minority Oversampling Technique) by oversampling the minority class on train\n",
    "data. By using SMOTE, it can be increased Recall at the cost of Precision."
   ]
  },
  {
   "cell_type": "code",
   "execution_count": 11,
   "id": "881267c9",
   "metadata": {},
   "outputs": [
    {
     "name": "stdout",
     "output_type": "stream",
     "text": [
      "Original dataset shape Counter({0: 5651, 1: 1053})\n",
      "Resampled dataset shape Counter({0: 5651, 1: 5651})\n"
     ]
    }
   ],
   "source": [
    "# Summarize the class distribution in y_train using a Counter object\n",
    "print('Original dataset shape {}'.format(Counter(y_train)))\n",
    "\n",
    "# Apply SMOTE function to oversample \n",
    "# minority class on train data\n",
    "sm = SMOTE(random_state=42)\n",
    "X_train_res, y_train_res = sm.fit_resample(X_train, y_train)\n",
    "\n",
    "# Summarize the class distribution in resampled train data\n",
    "print('Resampled dataset shape {}'.format(Counter(y_train_res)))"
   ]
  },
  {
   "cell_type": "markdown",
   "id": "a4a9ec3f",
   "metadata": {},
   "source": [
    "### Train the models on resampled data"
   ]
  },
  {
   "cell_type": "code",
   "execution_count": 12,
   "id": "c155a25a",
   "metadata": {},
   "outputs": [
    {
     "name": "stdout",
     "output_type": "stream",
     "text": [
      "Model after resampling: Logistic Regression\n",
      "\n",
      "Accuracy: 0.6472\n",
      "Precision: 0.2586\n",
      "Recall: 0.5958\n",
      "F1 Score: 0.3607\n",
      "ROC AUC Score: 0.6735\n",
      "******************************************\n",
      "Model after resampling: Random Forest\n",
      "\n",
      "Accuracy: 0.7738\n",
      "Precision: 0.2652\n",
      "Recall: 0.2000\n",
      "F1 Score: 0.2280\n",
      "ROC AUC Score: 0.6304\n",
      "******************************************\n",
      "Model after resampling: Gradient Boosting\n",
      "\n",
      "Accuracy: 0.7439\n",
      "Precision: 0.2793\n",
      "Recall: 0.3375\n",
      "F1 Score: 0.3057\n",
      "ROC AUC Score: 0.6325\n",
      "******************************************\n"
     ]
    }
   ],
   "source": [
    "models = {\n",
    "    'Logistic Regression': LogisticRegression(max_iter=5000, random_state = 0),\n",
    "    'Random Forest': RandomForestClassifier(random_state=0),\n",
    "    'Gradient Boosting': GradientBoostingClassifier(n_estimators=100, \n",
    "                         loss='deviance', learning_rate=0.05, \n",
    "                         max_depth=5, min_samples_leaf=5)\n",
    "}\n",
    "\n",
    "\n",
    "# Fit the models to resampled train data\n",
    "for name, model in models.items():\n",
    "    model.fit(X_train_res, y_train_res)\n",
    "    y_pred = model.predict(X_test)\n",
    "    \n",
    "    # Evaluate the model\n",
    "    accuracy = accuracy_score(y_test, y_pred)\n",
    "    precision = precision_score(y_test, y_pred)\n",
    "    recall = recall_score(y_test, y_pred)\n",
    "    f1 = f1_score(y_test, y_pred)\n",
    "    roc_auc = roc_auc_score(y_test, model.predict_proba(X_test)[:, 1])\n",
    "    \n",
    "    # Print the evaluation metrics\n",
    "    print(f\"Model after resampling: {name}\")\n",
    "    print()\n",
    "    print(f\"Accuracy: {accuracy:.4f}\")\n",
    "    print(f\"Precision: {precision:.4f}\")\n",
    "    print(f\"Recall: {recall:.4f}\")\n",
    "    print(f\"F1 Score: {f1:.4f}\")\n",
    "    print(f\"ROC AUC Score: {roc_auc:.4f}\")\n",
    "    print(\"******************************************\")"
   ]
  },
  {
   "cell_type": "markdown",
   "id": "81e39224",
   "metadata": {},
   "source": [
    "We observe that by **reweighting** the **proportion** of the **classes**, the **Recall increased at the cost of Precision** for **all models**.\n",
    "\n",
    "For **Logistic Regression**, **Recall** increased to **0.6**, which means that the **model identifies 60% of all unpaid loans**.\n",
    "\n",
    "Meantime **Precision** dropped to **0.26**, while F1 score increased to 0.36."
   ]
  },
  {
   "cell_type": "markdown",
   "id": "bcd8e161",
   "metadata": {},
   "source": [
    "### Confusion matrix for Logistic Regression after applying SMOTE"
   ]
  },
  {
   "cell_type": "code",
   "execution_count": 13,
   "id": "a401a1eb",
   "metadata": {},
   "outputs": [
    {
     "name": "stdout",
     "output_type": "stream",
     "text": [
      "\n",
      "TP, TN, FP, FN: 286 , 1574 , 820 , 194\n"
     ]
    },
    {
     "data": {
      "image/png": "[encoded data removed]",
      "text/plain": [
       "<Figure size 288x216 with 1 Axes>"
      ]
     },
     "metadata": {},
     "output_type": "display_data"
    }
   ],
   "source": [
    "# Get predicted values for Logistic Regression with resampled data\n",
    "log = LogisticRegression(max_iter=5000, random_state = 0)   \n",
    "log.fit(X_train_res, y_train_res)\n",
    "y_pred = log.predict(X_test)\n",
    "\n",
    "# Generate a Confusion Matrix\n",
    "cm = confusion_matrix(y_test, y_pred)\n",
    "tn, fp, fn, tp = cm.ravel()\n",
    "print (\"\\nTP, TN, FP, FN:\", \n",
    "       tp, \",\", tn, \",\", fp, \",\", fn)\n",
    "\n",
    "# Build the Confusion Matrix plot for Logistic Regression model\n",
    "plt.figure(figsize=(4,3))\n",
    "sns.set(font_scale=1.3)            \n",
    "sns.heatmap(cm, annot=True, fmt=\"d\", cmap=\"Greens\", \n",
    "            linewidths=0.2, cbar=False)\n",
    "plt.xlabel('Predicted')\n",
    "plt.ylabel('Actual')\n",
    "plt.title('Confusion Matrix for Logistic Regression after resampling')\n",
    "plt.show()"
   ]
  },
  {
   "cell_type": "markdown",
   "id": "062a1b15",
   "metadata": {},
   "source": [
    "The **false negatives decreased** from **469 to 194** and the **false positives increased** from **6 to 820**.\n",
    "\n",
    "The result shows that **Logistic Regression** model **after resampling** is **better** at **predicting** if a **loan \n",
    "will not be paid back**."
   ]
  },
  {
   "cell_type": "markdown",
   "id": "52019d85",
   "metadata": {},
   "source": [
    "### Precision-Recall curve for Logistic Regression classifier"
   ]
  },
  {
   "cell_type": "code",
   "execution_count": 14,
   "id": "7dbe41f7",
   "metadata": {},
   "outputs": [
    {
     "data": {
      "image/png": "[encoded data removed]",
      "text/plain": [
       "<Figure size 360x360 with 1 Axes>"
      ]
     },
     "metadata": {},
     "output_type": "display_data"
    }
   ],
   "source": [
    "# Get probabilities for class 1\n",
    "y_score = log.predict_proba(X_test)[:, 1]\n",
    "\n",
    "# Calculate precision and recall\n",
    "precision, recall, thresholds = precision_recall_curve(y_test, y_score)\n",
    "\n",
    "# Create precision-recall curve\n",
    "plt.figure(figsize=(5,5))\n",
    "plt.plot(recall, precision, color='purple')  \n",
    "plt.title('Precision-Recall Curve for Logistic Regression after resampling')\n",
    "plt.xlabel('Recall')\n",
    "plt.ylabel('Precision')\n",
    "plt.show()"
   ]
  },
  {
   "cell_type": "markdown",
   "id": "eecc0d1c",
   "metadata": {},
   "source": [
    "At a **high threshold** value, **Recall** is **0.03** and **Precision** is **0.6**, while at **low threshold** values, **Recall increases** to a value of **1**, while **Precision decreases** below **0.2**.\n",
    "\n",
    "The **precision-recall curve** allows us to **visualize** these **metrics** at **various threshold levels** to observe the **tradeoff** between the \n",
    "two."
   ]
  },
  {
   "cell_type": "markdown",
   "id": "204e0a20",
   "metadata": {},
   "source": [
    "### Conclusions\n",
    "\n",
    "In this project three classifier models were built to predict whether or not the borrower paid back their loan in full.\n",
    "The models trained and evaluated were Logistic Regression, Random Forest and Gradient Boosting. The results showed a low Recall\n",
    "value, which means that the model misses an important number of positive cases. Being an imbalanced dataset, Recall takes \n",
    "precedence because the minority class (the positive class) is the primary focus, especially on applications like loan lending. \n",
    "\n",
    "Next, the SMOTE technique was applied by oversampling the minority class on train data, then the models were re-trained and \n",
    "re-evaluated on resampled data. The results showed a higher value for Recall and lower for Precision. By plotting the \n",
    "Precision-Recall curve, it could be observed the tradeoff between the two.\n",
    "\n",
    "Achieving a better balance between recall and precision can help mitigate the risks of defaulters slipping through undetected, \n",
    "potentially resulting in financial losses for the lender. However, the specific trade-off between recall and precision should \n",
    "align with the goals and consequences of the particular application."
   ]
  },
  {
   "cell_type": "code",
   "execution_count": null,
   "id": "63f6e6f7",
   "metadata": {},
   "outputs": [],
   "source": []
  }
 ],
 "metadata": {
  "kernelspec": {
   "display_name": "Python 3 (ipykernel)",
   "language": "python",
   "name": "python3"
  },
  "language_info": {
   "codemirror_mode": {
    "name": "ipython",
    "version": 3
   },
   "file_extension": ".py",
   "mimetype": "text/x-python",
   "name": "python",
   "nbconvert_exporter": "python",
   "pygments_lexer": "ipython3",
   "version": "3.9.12"
  }
 },
 "nbformat": 4,
 "nbformat_minor": 5
}
